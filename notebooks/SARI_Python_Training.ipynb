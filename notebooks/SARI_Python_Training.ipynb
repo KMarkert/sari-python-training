{
 "cells": [
  {
   "cell_type": "markdown",
   "metadata": {},
   "source": [
    "# Import Modules #\n",
    "In a python environment, you need to import the modules you are working with at the beginning of a file. There are many commonly used modules that come pre-installed with your Python manager; however, there are so many modules that if they were all pre-loaded, it would take a very long time to run your code. If you need a module that isn’t already installed, you need to download and install it before you can use it. Once it is installed, you can import it into your current environment. The syntax for importing the Matplotlib module (previously described) would be as follows:\n"
   ]
  },
  {
   "cell_type": "code",
   "execution_count": 2,
   "metadata": {
    "collapsed": false
   },
   "outputs": [],
   "source": [
    "import matplotlib.pyplot as plt\n",
    "import geopandas as gpd\n",
    "import rasterio\n",
    "import numpy as np\n",
    "import cv2"
   ]
  },
  {
   "cell_type": "markdown",
   "metadata": {},
   "source": [
    "# Display Output #\n",
    "There are many ways to display your data or the output of your code depending on what your project entails. The print function allows you to view the information stored in variables, or view the result of a function or mathematical operation (we will go more in depth on functions in a bit). The print function can be very useful when trying to debug (fix errors) your code or to visualize and understand different data types. Try the following print statement example:\n"
   ]
  },
  {
   "cell_type": "code",
   "execution_count": 3,
   "metadata": {
    "collapsed": false
   },
   "outputs": [
    {
     "name": "stdout",
     "output_type": "stream",
     "text": [
      "Hello SARI friends!\n"
     ]
    }
   ],
   "source": [
    "strng = \"Hello SARI friends!\"\n",
    "print(strng)"
   ]
  },
  {
   "cell_type": "markdown",
   "metadata": {},
   "source": [
    "# Read in Vector Data #\n",
    "\n",
    "Just as we had to import the relevant geospatial Python modules into our Python environment, we also have to import, or read in, the data. First we will see an example of reading in data from the GeoPandas database. Once we have GeoPandas imported into our Python environment, the command for reading in a data frame or a shapefile is gpd.read_file(). Remember that “gpd” is the nickname we gave the GeoPandas module. The read_file() method takes a file path as an argument. Normally, the file path would be a string object that points to the location of a shapefile on your local drive. Here, GeoPandas needs to first get the path of the file within its geodatabase before it can read it in. GeoPandas has a method for that as well. Try loading in a built-in data frame to your Python environment using the following code:\n"
   ]
  },
  {
   "cell_type": "code",
   "execution_count": 4,
   "metadata": {
    "collapsed": false
   },
   "outputs": [],
   "source": [
    "earth = gpd.read_file(gpd.datasets.get_path('naturalearth_lowres'))"
   ]
  },
  {
   "cell_type": "markdown",
   "metadata": {},
   "source": [
    "# Explore Attribute Table #\n",
    "\n",
    "Now we will look at some of the layers and attributes stored in the “earth” GeoDataFrame by using the “head()” method. This will print out the rows of each “Continent” GeoSeries and their attribute fields including names of countries and population estimates. After looking at the output of “head()” we will have a better understanding of the information we can display in our plots. Try the method below: \n"
   ]
  },
  {
   "cell_type": "code",
   "execution_count": 5,
   "metadata": {
    "collapsed": false
   },
   "outputs": [
    {
     "data": {
      "text/html": [
       "<div>\n",
       "<table border=\"1\" class=\"dataframe\">\n",
       "  <thead>\n",
       "    <tr style=\"text-align: right;\">\n",
       "      <th></th>\n",
       "      <th>continent</th>\n",
       "      <th>gdp_md_est</th>\n",
       "      <th>geometry</th>\n",
       "      <th>iso_a3</th>\n",
       "      <th>name</th>\n",
       "      <th>pop_est</th>\n",
       "    </tr>\n",
       "  </thead>\n",
       "  <tbody>\n",
       "    <tr>\n",
       "      <th>0</th>\n",
       "      <td>Asia</td>\n",
       "      <td>22270.0</td>\n",
       "      <td>POLYGON ((61.21081709172574 35.65007233330923,...</td>\n",
       "      <td>AFG</td>\n",
       "      <td>Afghanistan</td>\n",
       "      <td>28400000.0</td>\n",
       "    </tr>\n",
       "    <tr>\n",
       "      <th>1</th>\n",
       "      <td>Africa</td>\n",
       "      <td>110300.0</td>\n",
       "      <td>(POLYGON ((16.32652835456705 -5.87747039146621...</td>\n",
       "      <td>AGO</td>\n",
       "      <td>Angola</td>\n",
       "      <td>12799293.0</td>\n",
       "    </tr>\n",
       "    <tr>\n",
       "      <th>2</th>\n",
       "      <td>Europe</td>\n",
       "      <td>21810.0</td>\n",
       "      <td>POLYGON ((20.59024743010491 41.85540416113361,...</td>\n",
       "      <td>ALB</td>\n",
       "      <td>Albania</td>\n",
       "      <td>3639453.0</td>\n",
       "    </tr>\n",
       "    <tr>\n",
       "      <th>3</th>\n",
       "      <td>Asia</td>\n",
       "      <td>184300.0</td>\n",
       "      <td>POLYGON ((51.57951867046327 24.24549713795111,...</td>\n",
       "      <td>ARE</td>\n",
       "      <td>United Arab Emirates</td>\n",
       "      <td>4798491.0</td>\n",
       "    </tr>\n",
       "    <tr>\n",
       "      <th>4</th>\n",
       "      <td>South America</td>\n",
       "      <td>573900.0</td>\n",
       "      <td>(POLYGON ((-65.50000000000003 -55.199999999999...</td>\n",
       "      <td>ARG</td>\n",
       "      <td>Argentina</td>\n",
       "      <td>40913584.0</td>\n",
       "    </tr>\n",
       "  </tbody>\n",
       "</table>\n",
       "</div>"
      ],
      "text/plain": [
       "       continent  gdp_md_est  \\\n",
       "0           Asia     22270.0   \n",
       "1         Africa    110300.0   \n",
       "2         Europe     21810.0   \n",
       "3           Asia    184300.0   \n",
       "4  South America    573900.0   \n",
       "\n",
       "                                            geometry iso_a3  \\\n",
       "0  POLYGON ((61.21081709172574 35.65007233330923,...    AFG   \n",
       "1  (POLYGON ((16.32652835456705 -5.87747039146621...    AGO   \n",
       "2  POLYGON ((20.59024743010491 41.85540416113361,...    ALB   \n",
       "3  POLYGON ((51.57951867046327 24.24549713795111,...    ARE   \n",
       "4  (POLYGON ((-65.50000000000003 -55.199999999999...    ARG   \n",
       "\n",
       "                   name     pop_est  \n",
       "0           Afghanistan  28400000.0  \n",
       "1                Angola  12799293.0  \n",
       "2               Albania   3639453.0  \n",
       "3  United Arab Emirates   4798491.0  \n",
       "4             Argentina  40913584.0  "
      ]
     },
     "execution_count": 5,
     "metadata": {},
     "output_type": "execute_result"
    }
   ],
   "source": [
    "earth.head()"
   ]
  },
  {
   "cell_type": "markdown",
   "metadata": {},
   "source": [
    "# Display a Vector #\n",
    "\n",
    "For our plot, we will call the specific shapefile for Thailand from within the GeoDataFrame. Notice that each group of information has two columns. We will look for the name of the country by calling the “name” attribute of the earth GeoDataFrame that is set to “Thailand”, then set the output of that expression to a separate variable:\n"
   ]
  },
  {
   "cell_type": "code",
   "execution_count": 6,
   "metadata": {
    "collapsed": false
   },
   "outputs": [
    {
     "data": {
      "image/png": "[encoded data removed]",
      "text/plain": [
       "<matplotlib.figure.Figure at 0x1268dc710>"
      ]
     },
     "metadata": {},
     "output_type": "display_data"
    }
   ],
   "source": [
    "thailand =earth[(earth.name == 'Thailand')]\n",
    "thailand.plot()\n",
    "plt.show()\n"
   ]
  },
  {
   "cell_type": "markdown",
   "metadata": {},
   "source": [
    "# Manipulate Display #\n",
    "\n",
    "GeoPandas comes with many different methods for manipulating the display of a graph or plot based off of Matplotlib. Notice in the map of Thailand there are two axes. There are methods to change the labels, spacing, color, grid, title, background, you name it. The full documentation for Matplotlib can be found at https://matplotlib.org/users/. For now, we will just look at the general syntax for adjusting some simple aspects of the plot. If we wanted to add a title and labels to the x and y axes, we would call the methods “title()”, “xlabel()”, and “ylabel()”. We could also change the font size, type, color, and orientation. These methods are shown below:\n"
   ]
  },
  {
   "cell_type": "code",
   "execution_count": 7,
   "metadata": {
    "collapsed": false
   },
   "outputs": [
    {
     "data": {
      "image/png": "[encoded data removed]",
      "text/plain": [
       "<matplotlib.figure.Figure at 0x1269b79b0>"
      ]
     },
     "metadata": {},
     "output_type": "display_data"
    }
   ],
   "source": [
    "thailand.plot()\n",
    "plt.title('Thailand', fontsize = 20, color = 'blue')\n",
    "plt.xlabel('Longitude')\n",
    "plt.ylabel('Latitude')\n",
    "plt.show()"
   ]
  },
  {
   "cell_type": "markdown",
   "metadata": {},
   "source": [
    "Now let’s create a “choropleth” map and plot the Asian countries in order of population. When we call the “plot()” method this time, we can choose the attribute column we would like to use as an argument. We can also choose the color scheme we want to display. A full list of Matplotlib color schemes can be found at https://matplotlib.org/examples/color/colormaps_reference.html. Now try the code below:\n"
   ]
  },
  {
   "cell_type": "code",
   "execution_count": null,
   "metadata": {
    "collapsed": true
   },
   "outputs": [],
   "source": [
    "countries = earth[(earth.continent == 'Asia')]\n",
    "countries.plot(column='pop_est', cmap='BuGn')\n",
    "plt.title(\"Pop of Countries in Asia\", fontsize = 20)\n",
    "plt.xlabel('Longitude')\n",
    "plt.ylabel('Latitude')\n",
    "plt.show()\n",
    "\n"
   ]
  },
  {
   "cell_type": "markdown",
   "metadata": {},
   "source": [
    "# Simple Geoprocessing #\n",
    "\n",
    "We will demonstrate the buffer method on the shapefile of Thailand. Buffer simply takes the distance around the feature as an argument as shown below: \n"
   ]
  },
  {
   "cell_type": "code",
   "execution_count": 8,
   "metadata": {
    "collapsed": false
   },
   "outputs": [
    {
     "data": {
      "image/png": "[encoded data removed]",
      "text/plain": [
       "<matplotlib.figure.Figure at 0x126a23dd8>"
      ]
     },
     "metadata": {},
     "output_type": "display_data"
    }
   ],
   "source": [
    "bufthai = thailand.buffer(2)\n",
    "bufthai.plot()\n",
    "plt.title('Thailand')\n",
    "plt.xlabel('Longitude')\n",
    "plt.ylabel('Latitude')\n",
    "plt.show()"
   ]
  },
  {
   "cell_type": "markdown",
   "metadata": {},
   "source": [
    "# Read in Local Data #\n",
    "We can also read in shapefiles from your local drive. You need the .shp and the .shx files in the working directory in order to read in a shapefile. The .shx file contains information about the shapefile that the computer needs access to. In this case we will look at dams in the Lower Mekong Basin, and districts in Thailand. Let’s read in and plot the districts and the dams:\n"
   ]
  },
  {
   "cell_type": "code",
   "execution_count": 9,
   "metadata": {
    "collapsed": false
   },
   "outputs": [
    {
     "ename": "OSError",
     "evalue": "no such file or directory: 'THA_adm2.shp'",
     "output_type": "error",
     "traceback": [
      "\u001b[0;31m---------------------------------------------------------------------------\u001b[0m",
      "\u001b[0;31mOSError\u001b[0m                                   Traceback (most recent call last)",
      "\u001b[0;32m<ipython-input-9-c4fc5fb89ee9>\u001b[0m in \u001b[0;36m<module>\u001b[0;34m()\u001b[0m\n\u001b[0;32m----> 1\u001b[0;31m \u001b[0mthai\u001b[0m \u001b[0;34m=\u001b[0m \u001b[0mgpd\u001b[0m\u001b[0;34m.\u001b[0m\u001b[0mread_file\u001b[0m\u001b[0;34m(\u001b[0m\u001b[0;34m'THA_adm2.shp'\u001b[0m\u001b[0;34m)\u001b[0m\u001b[0;34m\u001b[0m\u001b[0m\n\u001b[0m\u001b[1;32m      2\u001b[0m \u001b[0mplt\u001b[0m\u001b[0;34m.\u001b[0m\u001b[0mtitle\u001b[0m\u001b[0;34m(\u001b[0m\u001b[0;34m'Thai Districts'\u001b[0m\u001b[0;34m)\u001b[0m\u001b[0;34m\u001b[0m\u001b[0m\n\u001b[1;32m      3\u001b[0m \u001b[0mplt\u001b[0m\u001b[0;34m.\u001b[0m\u001b[0mxlabel\u001b[0m\u001b[0;34m(\u001b[0m\u001b[0;34m'Longitude'\u001b[0m\u001b[0;34m)\u001b[0m\u001b[0;34m\u001b[0m\u001b[0m\n\u001b[1;32m      4\u001b[0m \u001b[0mplt\u001b[0m\u001b[0;34m.\u001b[0m\u001b[0mylabel\u001b[0m\u001b[0;34m(\u001b[0m\u001b[0;34m'Latitude'\u001b[0m\u001b[0;34m)\u001b[0m\u001b[0;34m\u001b[0m\u001b[0m\n\u001b[1;32m      5\u001b[0m \u001b[0mthai\u001b[0m\u001b[0;34m.\u001b[0m\u001b[0mplot\u001b[0m\u001b[0;34m(\u001b[0m\u001b[0;34m)\u001b[0m\u001b[0;34m\u001b[0m\u001b[0m\n",
      "\u001b[0;32m/Users/tsmunroe/anaconda/lib/python3.6/site-packages/geopandas/io/file.py\u001b[0m in \u001b[0;36mread_file\u001b[0;34m(filename, **kwargs)\u001b[0m\n\u001b[1;32m     19\u001b[0m     \"\"\"\n\u001b[1;32m     20\u001b[0m     \u001b[0mbbox\u001b[0m \u001b[0;34m=\u001b[0m \u001b[0mkwargs\u001b[0m\u001b[0;34m.\u001b[0m\u001b[0mpop\u001b[0m\u001b[0;34m(\u001b[0m\u001b[0;34m'bbox'\u001b[0m\u001b[0;34m,\u001b[0m \u001b[0;32mNone\u001b[0m\u001b[0;34m)\u001b[0m\u001b[0;34m\u001b[0m\u001b[0m\n\u001b[0;32m---> 21\u001b[0;31m     \u001b[0;32mwith\u001b[0m \u001b[0mfiona\u001b[0m\u001b[0;34m.\u001b[0m\u001b[0mopen\u001b[0m\u001b[0;34m(\u001b[0m\u001b[0mfilename\u001b[0m\u001b[0;34m,\u001b[0m \u001b[0;34m**\u001b[0m\u001b[0mkwargs\u001b[0m\u001b[0;34m)\u001b[0m \u001b[0;32mas\u001b[0m \u001b[0mf\u001b[0m\u001b[0;34m:\u001b[0m\u001b[0;34m\u001b[0m\u001b[0m\n\u001b[0m\u001b[1;32m     22\u001b[0m         \u001b[0mcrs\u001b[0m \u001b[0;34m=\u001b[0m \u001b[0mf\u001b[0m\u001b[0;34m.\u001b[0m\u001b[0mcrs\u001b[0m\u001b[0;34m\u001b[0m\u001b[0m\n\u001b[1;32m     23\u001b[0m         \u001b[0;32mif\u001b[0m \u001b[0mbbox\u001b[0m \u001b[0;32mis\u001b[0m \u001b[0;32mnot\u001b[0m \u001b[0;32mNone\u001b[0m\u001b[0;34m:\u001b[0m\u001b[0;34m\u001b[0m\u001b[0m\n",
      "\u001b[0;32m/Users/tsmunroe/anaconda/lib/python3.6/site-packages/fiona/__init__.py\u001b[0m in \u001b[0;36mopen\u001b[0;34m(path, mode, driver, schema, crs, encoding, layer, vfs, enabled_drivers, crs_wkt)\u001b[0m\n\u001b[1;32m    160\u001b[0m                 \u001b[0;32mraise\u001b[0m \u001b[0mIOError\u001b[0m\u001b[0;34m(\u001b[0m\u001b[0;34m\"no such archive file: %r\"\u001b[0m \u001b[0;34m%\u001b[0m \u001b[0marchive\u001b[0m\u001b[0;34m)\u001b[0m\u001b[0;34m\u001b[0m\u001b[0m\n\u001b[1;32m    161\u001b[0m         \u001b[0;32melif\u001b[0m \u001b[0mpath\u001b[0m \u001b[0;34m!=\u001b[0m \u001b[0;34m'-'\u001b[0m \u001b[0;32mand\u001b[0m \u001b[0;32mnot\u001b[0m \u001b[0mos\u001b[0m\u001b[0;34m.\u001b[0m\u001b[0mpath\u001b[0m\u001b[0;34m.\u001b[0m\u001b[0mexists\u001b[0m\u001b[0;34m(\u001b[0m\u001b[0mpath\u001b[0m\u001b[0;34m)\u001b[0m\u001b[0;34m:\u001b[0m\u001b[0;34m\u001b[0m\u001b[0m\n\u001b[0;32m--> 162\u001b[0;31m             \u001b[0;32mraise\u001b[0m \u001b[0mIOError\u001b[0m\u001b[0;34m(\u001b[0m\u001b[0;34m\"no such file or directory: %r\"\u001b[0m \u001b[0;34m%\u001b[0m \u001b[0mpath\u001b[0m\u001b[0;34m)\u001b[0m\u001b[0;34m\u001b[0m\u001b[0m\n\u001b[0m\u001b[1;32m    163\u001b[0m         c = Collection(path, mode, driver=driver, encoding=encoding,\n\u001b[1;32m    164\u001b[0m                        \u001b[0mlayer\u001b[0m\u001b[0;34m=\u001b[0m\u001b[0mlayer\u001b[0m\u001b[0;34m,\u001b[0m \u001b[0mvsi\u001b[0m\u001b[0;34m=\u001b[0m\u001b[0mvsi\u001b[0m\u001b[0;34m,\u001b[0m \u001b[0marchive\u001b[0m\u001b[0;34m=\u001b[0m\u001b[0marchive\u001b[0m\u001b[0;34m,\u001b[0m\u001b[0;34m\u001b[0m\u001b[0m\n",
      "\u001b[0;31mOSError\u001b[0m: no such file or directory: 'THA_adm2.shp'"
     ]
    }
   ],
   "source": [
    "thai = gpd.read_file('THA_adm2.shp')\n",
    "plt.title('Thai Districts')\n",
    "plt.xlabel('Longitude')\n",
    "plt.ylabel('Latitude')\n",
    "thai.plot()\n"
   ]
  },
  {
   "cell_type": "markdown",
   "metadata": {},
   "source": [
    "# Read in Local Raster Data #\n",
    "\n",
    "Just as there was a method to read in vector data, there is a Rasterio specific method for reading in raster data. The method “open()” takes a file path as an argument, and returns a raster dataset object. We need to double check that we have imported Rasterio into the environment, then we can open a raster using its local file name:\n"
   ]
  },
  {
   "cell_type": "code",
   "execution_count": null,
   "metadata": {
    "collapsed": false,
    "scrolled": true
   },
   "outputs": [],
   "source": [
    "tif = rasterio.open('L5_B1.tif')\n",
    "print(tif.bounds)\n",
    "print(tif.crs)\n",
    "print(tif.meta)\n",
    "\n"
   ]
  },
  {
   "cell_type": "markdown",
   "metadata": {},
   "source": [
    "# Simple Calculations #\n",
    "Rasterio allows you to perform raster calculations to the entire image all at once. In the next exercise, we will be calculating an index to find water in a raster image. Here we will look at how easy it can be to perform raster calculations:\n"
   ]
  },
  {
   "cell_type": "code",
   "execution_count": null,
   "metadata": {
    "collapsed": false
   },
   "outputs": [],
   "source": [
    "tif1 = rasterio.open('L5_B2.tif')\n",
    "tif2 = rasterio.open('L5_B3.tif')\n",
    "new = tif1.read(1)-tif2.read(1)\n",
    "plt.imshow(new)\n",
    "plt.show()"
   ]
  },
  {
   "cell_type": "markdown",
   "metadata": {
    "collapsed": false
   },
   "source": [
    "# Manipulate Display #\n",
    "\n",
    "If we want to display the raster we can use the Matplotlib class Pyplot that we have been working with. Remember that it is already loaded into our environment with the nickname “plt”. The method “imshow()” shows an image within a plot. The first argument is the raster dataset object to plot, and the second is the color scheme you want it displayed in. Because we opened the raster with “rasterio.open()”, the filepath is read in as a “Dataset reader” object. For this reason, you need to specify the band index you want displayed, which is done using the “read()” method:\n"
   ]
  },
  {
   "cell_type": "code",
   "execution_count": null,
   "metadata": {
    "collapsed": false
   },
   "outputs": [],
   "source": [
    "plt.imshow(tif1.read(1),cmap=\"BrBG\")\n",
    "plt.axis('off')\n",
    "plt.title('Raster')\n",
    "plt.show()\n"
   ]
  },
  {
   "cell_type": "markdown",
   "metadata": {},
   "source": [
    "# Save Raster Data #\n",
    "\n",
    "If you want to save your vector dataset to your local machine, you need to open a new raster file in “write” mode. Recall earlier that we were working with a raster dataset in read mode, where we could only look at properties of the dataset, but not change the original dataset. Now we will create a new file in “write” mode, where we can change the data within the file. We need to define the file as a tiff, with all the same parameters as the image we were working with before:\n"
   ]
  },
  {
   "cell_type": "code",
   "execution_count": null,
   "metadata": {
    "collapsed": true
   },
   "outputs": [],
   "source": [
    "image = tif2.read(1)\n",
    "meta = image.meta\n",
    "with rasterio.open('test.tif','w',**meta) as dst:\n",
    "    dst.set_crs(image.crs)\n",
    "    dst.write(new,1)\n",
    "    dst.close()\n"
   ]
  }
 ],
 "metadata": {
  "kernelspec": {
   "display_name": "Python 3",
   "language": "python",
   "name": "python3"
  },
  "language_info": {
   "codemirror_mode": {
    "name": "ipython",
    "version": 3
   },
   "file_extension": ".py",
   "mimetype": "text/x-python",
   "name": "python",
   "nbconvert_exporter": "python",
   "pygments_lexer": "ipython3",
   "version": "3.6.0"
  }
 },
 "nbformat": 4,
 "nbformat_minor": 2
}
